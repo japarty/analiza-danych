{
 "cells": [
  {
   "cell_type": "code",
   "execution_count": 1,
   "metadata": {},
   "outputs": [],
   "source": [
    "import numpy as np\n",
    "import pandas as pd\n",
    "import scipy.stats as st\n",
    "import matplotlib.pyplot as plt"
   ]
  },
  {
   "cell_type": "code",
   "execution_count": null,
   "metadata": {},
   "outputs": [],
   "source": [
    "data = pd.read_csv('PUBG_Player_Statistics.csv')\n",
    "data.info()"
   ]
  },
  {
   "cell_type": "code",
   "execution_count": null,
   "metadata": {},
   "outputs": [],
   "source": [
    "data.head(5)"
   ]
  },
  {
   "cell_type": "code",
   "execution_count": null,
   "metadata": {
    "scrolled": true
   },
   "outputs": [],
   "source": [
    "concat = pd.concat([data.isnull().sum()],\n",
    "          axis=1, \n",
    "          keys=['brakujące rekordy'])\n",
    "print(concat.sum())"
   ]
  },
  {
   "cell_type": "code",
   "execution_count": null,
   "metadata": {
    "scrolled": true
   },
   "outputs": [],
   "source": [
    "described_columns=['solo_RideDistance','solo_RoadKills','solo_KillDeathRatio','duo_KillDeathRatio','solo_RoundsPlayed','solo_WinRatio','solo_LongestKill','duo_LongestKill','duo_HealsPg','duo_KillsPg','solo_WinRatio','squad_WinRatio','duo_DBNOs','duo_Revives']\n",
    "print('player_name count:',data.player_name.count(),'\\n')\n",
    "for i in described_columns:\n",
    "    print(data[i].describe().apply(lambda x: '{:2.2f}'.format(x, 'f')),'\\n')"
   ]
  },
  {
   "cell_type": "code",
   "execution_count": null,
   "metadata": {},
   "outputs": [],
   "source": [
    "KolmogorovSmirnov = [data.solo_KillDeathRatio,data.duo_KillDeathRatio,data.duo_HealsPg,data.duo_KillsPg] #sprawdzanie czy to rozkład normalny, potrzebna informacja do zmiannych używanych w teście różnic\n",
    "for i in KolmogorovSmirnov: #dla każdej stat oddzielnie\n",
    "    a,b = st.kstest(i,'norm')\n",
    "    print(i.name,'stat: {:2.1f}'.format(a),'pvalue:',b)"
   ]
  },
  {
   "cell_type": "code",
   "execution_count": null,
   "metadata": {},
   "outputs": [],
   "source": [
    "%matplotlib inline"
   ]
  },
  {
   "cell_type": "markdown",
   "metadata": {},
   "source": [
    "## 1. Jaki jest związek między przebytą odległością przez gracza w pojeździe (solo_RideDistance), a ilością zabójstw poprzez potrącenie (solo_RoadKills) w trybie jednoosobowym?"
   ]
  },
  {
   "cell_type": "code",
   "execution_count": null,
   "metadata": {},
   "outputs": [],
   "source": [
    "correlation, pvalue = st.pearsonr(data['solo_RideDistance'].values, data['solo_RoadKills'].values)\n",
    "\n",
    "print('Poziom istotności: ', pvalue)\n",
    "print('Poziom korelacji:', '{:2.2f}'.format(correlation))"
   ]
  },
  {
   "cell_type": "markdown",
   "metadata": {},
   "source": [
    "## 7. Jaki jest związek między ilością wystąpień stanu DBNO (Down But Not Out) (duo_DBNOs) w trybie dwuosobowym, a ilością wskrzeszonych towarzyszy w trybie dwuosobowym (duo_Revives)?\n"
   ]
  },
  {
   "cell_type": "code",
   "execution_count": null,
   "metadata": {},
   "outputs": [],
   "source": [
    "correlation, pvalue = st.pearsonr(data['duo_DBNOs'].values, data['duo_Revives'].values)\n",
    "\n",
    "print('Poziom istotności: ', pvalue)\n",
    "print('Poziom korelacji:', '{:2.2f}'.format(correlation))"
   ]
  },
  {
   "cell_type": "markdown",
   "metadata": {},
   "source": [
    "## 3. Ze wszystkich graczy, którzy zagrali więcej niż 100 rund w trybie jednoosobowym (solo_RoundsPlayed), których dziesięciu (player_name) ma najwyższy procent wygranych w trybie jednoosobowym (solo_WinRatio)? W"
   ]
  },
  {
   "cell_type": "code",
   "execution_count": null,
   "metadata": {},
   "outputs": [],
   "source": [
    "over_100_rounds = data.loc[data.solo_RoundsPlayed > 100, ['player_name', 'solo_WinRatio']]\n",
    "over_100_rounds = over_100_rounds.sort_values('solo_WinRatio', ascending=False)\n",
    "\n",
    "top10_over_100_rounds = over_100_rounds.head(10)\n",
    "print(top10_over_100_rounds)"
   ]
  },
  {
   "cell_type": "code",
   "execution_count": null,
   "metadata": {},
   "outputs": [],
   "source": [
    "plt.figure();\n",
    "ax = top10_over_100_rounds.plot(x='player_name', y='solo_WinRatio', kind='bar', fontsize=10, rot=20, legend=False, figsize=(10,6))\n",
    "plt.xlabel('player_name [-]', fontsize=11)\n",
    "plt.ylabel('solo_WinRatio [-]', fontsize=11)\n",
    "plt.title('Najwyższy procent wygranych w trybie jednoosobowym', fontsize=11)\n",
    "plt.ylim([0, 40])\n",
    "for p in ax.patches:\n",
    "    ax.annotate('{:2.2f}%'.format(p.get_height()), (p.get_x() - 0.03, p.get_height() + 0.6))\n",
    "plt.tight_layout()\n",
    "\n",
    "plt.savefig('top_10_over_100_rounds.png')"
   ]
  },
  {
   "cell_type": "markdown",
   "metadata": {},
   "source": [
    "## 4. W którym z trybów (jednoosobowy i dwuosobowy) gracze osiągają najwyższy średni wynik długości śmiertelnego strzału (LongestKill) W"
   ]
  },
  {
   "cell_type": "code",
   "execution_count": null,
   "metadata": {},
   "outputs": [],
   "source": [
    "LongestKill_solo_vs_duo = data[['solo_LongestKill', 'duo_LongestKill']]\n",
    "LongestKill_solo_vs_duo = LongestKill_solo_vs_duo.mean()\n",
    "LongestKill_solo_vs_duo.apply(lambda x: '{:2.2f}'.format(x, 'f'))"
   ]
  },
  {
   "cell_type": "code",
   "execution_count": null,
   "metadata": {},
   "outputs": [],
   "source": [
    "wykres = LongestKill_solo_vs_duo.plot.pie(autopct='%.2f % %', fontsize=11, figsize=(10, 10))\n",
    "plt.legend(loc='upper left')\n",
    "plt.title('Wykres porównujący średni wynik odległości śmiertelnego strzału dla tybu jednoosobowego i dwuosobowego')\n",
    "plt.ylabel('')\n",
    "plt.tight_layout()\n",
    "plt.savefig('LongestKill_solo_vs_duo.png')"
   ]
  },
  {
   "cell_type": "markdown",
   "metadata": {},
   "source": [
    "## 6. Jak wielu graczy, którzy mają współczynnik wygranych w trybie jednoosobowym poniżej 10 % (solo_WinRatio), mają współczynnik wygranych w trybie drużynowym powyżej 35% (squad_WinRatio). W"
   ]
  },
  {
   "cell_type": "code",
   "execution_count": null,
   "metadata": {},
   "outputs": [],
   "source": [
    "WinRatio_solo_squad = data.loc[data.solo_WinRatio < 10 , ['solo_WinRatio','squad_WinRatio']]\n",
    "WinRatio_solo_squad = WinRatio_solo_squad.loc[WinRatio_solo_squad.squad_WinRatio > 35 , ['solo_WinRatio','squad_WinRatio']]\n",
    "WinRatio_solo_squad = WinRatio_solo_squad.count()\n",
    "WinRatio_solo_squad['Reszta'] = data.solo_WinRatio.count()- WinRatio_solo_squad.solo_WinRatio\n",
    "del WinRatio_solo_squad['squad_WinRatio']\n",
    "WinRatio_solo_squad = WinRatio_solo_squad.rename({'solo_WinRatio': 'WinRatio_solo_squad_count'})\n",
    "print(WinRatio_solo_squad)"
   ]
  },
  {
   "cell_type": "code",
   "execution_count": null,
   "metadata": {},
   "outputs": [],
   "source": [
    "wykres = WinRatio_solo_squad.plot.pie(autopct='%.2f % %', fontsize=11, figsize=(9, 9), explode=[0.1,0], startangle=60)\n",
    "plt.legend(loc='upper left')\n",
    "plt.title('Wykres porównujący liczbę graczy spełniających wymagania w stosunku do całej reszty graczy')\n",
    "plt.ylabel('')\n",
    "plt.tight_layout()\n",
    "plt.savefig('chosenones_vs_rest.png')"
   ]
  },
  {
   "cell_type": "markdown",
   "metadata": {},
   "source": [
    "## 2. Czy jest różnica między wartością statystyki KDRatio w trybie solo (solo_KillDeathRatio), a w trybie duo?(duo_KillDeathRatio) W"
   ]
  },
  {
   "cell_type": "code",
   "execution_count": null,
   "metadata": {},
   "outputs": [],
   "source": [
    "statistic, pvalue = st.mannwhitneyu(data.solo_KillDeathRatio,data.duo_KillDeathRatio)\n",
    "print('Poziom istotności: ', pvalue)\n",
    "print('Poziom różnic:', statistic)"
   ]
  },
  {
   "cell_type": "code",
   "execution_count": null,
   "metadata": {},
   "outputs": [],
   "source": [
    "plt.figure(1 ,figsize=(10 ,10))\n",
    "plt.tight_layout()\n",
    "plt.xlabel('solo_KillDeathRatio [-]', fontsize=11)\n",
    "plt.ylabel('duo_KillDeathRatio [-]', fontsize=11)\n",
    "plt.title('Wykres zależności między KDRatio w trybie jedno i dwuosobowym', fontsize=11)\n",
    "plt.scatter(data.solo_KillDeathRatio,data.duo_KillDeathRatio)\n",
    "plt.tight_layout()\n",
    "plt.savefig('KDRatio_solo_vs_duo.png')"
   ]
  },
  {
   "cell_type": "markdown",
   "metadata": {},
   "source": [
    "## 5. Czy jest różnica między średnią liczbą uleczonych współtowarzyszy w trybie dwuosobowym (duo_HealsPg) a liczbą zabójstw w trybie dwuosobowym (duo_KillsPg)?"
   ]
  },
  {
   "cell_type": "code",
   "execution_count": null,
   "metadata": {},
   "outputs": [],
   "source": [
    "statistic, pvalue = st.mannwhitneyu(data.duo_HealsPg,data.duo_KillsPg)\n",
    "print('Poziom istotności: ', pvalue)\n",
    "print('Poziom różnic:', statistic)"
   ]
  },
  {
   "cell_type": "code",
   "execution_count": null,
   "metadata": {},
   "outputs": [],
   "source": []
  }
 ],
 "metadata": {
  "kernelspec": {
   "display_name": "Python 3",
   "language": "python",
   "name": "python3"
  },
  "language_info": {
   "codemirror_mode": {
    "name": "ipython",
    "version": 3
   },
   "file_extension": ".py",
   "mimetype": "text/x-python",
   "name": "python",
   "nbconvert_exporter": "python",
   "pygments_lexer": "ipython3",
   "version": "3.6.4"
  }
 },
 "nbformat": 4,
 "nbformat_minor": 2
}
