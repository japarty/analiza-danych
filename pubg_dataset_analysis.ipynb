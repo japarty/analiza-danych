{
 "cells": [
  {
   "cell_type": "code",
   "execution_count": 1,
   "metadata": {},
   "outputs": [],
   "source": [
    "import numpy as np\n",
    "import pandas as pd\n",
    "import scipy.stats as st\n",
    "import matplotlib.pyplot as plt"
   ]
  },
  {
   "cell_type": "code",
   "execution_count": 2,
   "metadata": {},
   "outputs": [
    {
     "name": "stdout",
     "output_type": "stream",
     "text": [
      "<class 'pandas.core.frame.DataFrame'>\n",
      "RangeIndex: 87898 entries, 0 to 87897\n",
      "Columns: 152 entries, player_name to squad_DBNOs\n",
      "dtypes: float64(83), int64(68), object(1)\n",
      "memory usage: 101.6+ MB\n"
     ]
    }
   ],
   "source": [
    "data = pd.read_csv('PUBG_Player_Statistics.csv')\n",
    "data.info()"
   ]
  },
  {
   "cell_type": "code",
   "execution_count": 3,
   "metadata": {},
   "outputs": [
    {
     "data": {
      "text/html": [
       "<div>\n",
       "<style scoped>\n",
       "    .dataframe tbody tr th:only-of-type {\n",
       "        vertical-align: middle;\n",
       "    }\n",
       "\n",
       "    .dataframe tbody tr th {\n",
       "        vertical-align: top;\n",
       "    }\n",
       "\n",
       "    .dataframe thead th {\n",
       "        text-align: right;\n",
       "    }\n",
       "</style>\n",
       "<table border=\"1\" class=\"dataframe\">\n",
       "  <thead>\n",
       "    <tr style=\"text-align: right;\">\n",
       "      <th></th>\n",
       "      <th>player_name</th>\n",
       "      <th>tracker_id</th>\n",
       "      <th>solo_KillDeathRatio</th>\n",
       "      <th>solo_WinRatio</th>\n",
       "      <th>solo_TimeSurvived</th>\n",
       "      <th>solo_RoundsPlayed</th>\n",
       "      <th>solo_Wins</th>\n",
       "      <th>solo_WinTop10Ratio</th>\n",
       "      <th>solo_Top10s</th>\n",
       "      <th>solo_Top10Ratio</th>\n",
       "      <th>...</th>\n",
       "      <th>squad_RideDistance</th>\n",
       "      <th>squad_MoveDistance</th>\n",
       "      <th>squad_AvgWalkDistance</th>\n",
       "      <th>squad_AvgRideDistance</th>\n",
       "      <th>squad_LongestKill</th>\n",
       "      <th>squad_Heals</th>\n",
       "      <th>squad_Revives</th>\n",
       "      <th>squad_Boosts</th>\n",
       "      <th>squad_DamageDealt</th>\n",
       "      <th>squad_DBNOs</th>\n",
       "    </tr>\n",
       "  </thead>\n",
       "  <tbody>\n",
       "    <tr>\n",
       "      <th>0</th>\n",
       "      <td>BreakNeck</td>\n",
       "      <td>4405</td>\n",
       "      <td>3.14</td>\n",
       "      <td>17.65</td>\n",
       "      <td>18469.14</td>\n",
       "      <td>17</td>\n",
       "      <td>3</td>\n",
       "      <td>0.83</td>\n",
       "      <td>4</td>\n",
       "      <td>23.5</td>\n",
       "      <td>...</td>\n",
       "      <td>3751590.99</td>\n",
       "      <td>5194786.58</td>\n",
       "      <td>2626.97</td>\n",
       "      <td>4372.64</td>\n",
       "      <td>536.98</td>\n",
       "      <td>2186</td>\n",
       "      <td>234</td>\n",
       "      <td>1884</td>\n",
       "      <td>242132.73</td>\n",
       "      <td>1448</td>\n",
       "    </tr>\n",
       "    <tr>\n",
       "      <th>1</th>\n",
       "      <td>Blackwalk</td>\n",
       "      <td>8199</td>\n",
       "      <td>4.41</td>\n",
       "      <td>18.18</td>\n",
       "      <td>33014.86</td>\n",
       "      <td>33</td>\n",
       "      <td>6</td>\n",
       "      <td>0.36</td>\n",
       "      <td>11</td>\n",
       "      <td>33.3</td>\n",
       "      <td>...</td>\n",
       "      <td>4295917.30</td>\n",
       "      <td>6051783.67</td>\n",
       "      <td>2422.48</td>\n",
       "      <td>6009.73</td>\n",
       "      <td>734.85</td>\n",
       "      <td>2041</td>\n",
       "      <td>276</td>\n",
       "      <td>2340</td>\n",
       "      <td>269795.75</td>\n",
       "      <td>1724</td>\n",
       "    </tr>\n",
       "    <tr>\n",
       "      <th>2</th>\n",
       "      <td>mercedes_benz</td>\n",
       "      <td>4454</td>\n",
       "      <td>3.60</td>\n",
       "      <td>0.00</td>\n",
       "      <td>4330.44</td>\n",
       "      <td>5</td>\n",
       "      <td>0</td>\n",
       "      <td>0.00</td>\n",
       "      <td>1</td>\n",
       "      <td>20.0</td>\n",
       "      <td>...</td>\n",
       "      <td>3935265.63</td>\n",
       "      <td>5589608.74</td>\n",
       "      <td>1871.89</td>\n",
       "      <td>3011.87</td>\n",
       "      <td>725.44</td>\n",
       "      <td>1766</td>\n",
       "      <td>210</td>\n",
       "      <td>2193</td>\n",
       "      <td>292977.07</td>\n",
       "      <td>1897</td>\n",
       "    </tr>\n",
       "    <tr>\n",
       "      <th>3</th>\n",
       "      <td>DORA</td>\n",
       "      <td>7729</td>\n",
       "      <td>14.00</td>\n",
       "      <td>50.00</td>\n",
       "      <td>13421.82</td>\n",
       "      <td>8</td>\n",
       "      <td>4</td>\n",
       "      <td>0.67</td>\n",
       "      <td>6</td>\n",
       "      <td>75.0</td>\n",
       "      <td>...</td>\n",
       "      <td>2738998.00</td>\n",
       "      <td>3796916.00</td>\n",
       "      <td>2154.62</td>\n",
       "      <td>5578.41</td>\n",
       "      <td>587.28</td>\n",
       "      <td>1214</td>\n",
       "      <td>142</td>\n",
       "      <td>1252</td>\n",
       "      <td>181106.90</td>\n",
       "      <td>1057</td>\n",
       "    </tr>\n",
       "    <tr>\n",
       "      <th>4</th>\n",
       "      <td>n2tstar</td>\n",
       "      <td>0</td>\n",
       "      <td>10.50</td>\n",
       "      <td>33.33</td>\n",
       "      <td>9841.04</td>\n",
       "      <td>6</td>\n",
       "      <td>2</td>\n",
       "      <td>0.40</td>\n",
       "      <td>5</td>\n",
       "      <td>83.3</td>\n",
       "      <td>...</td>\n",
       "      <td>2347295.00</td>\n",
       "      <td>3220260.00</td>\n",
       "      <td>2098.47</td>\n",
       "      <td>5642.54</td>\n",
       "      <td>546.10</td>\n",
       "      <td>1245</td>\n",
       "      <td>120</td>\n",
       "      <td>923</td>\n",
       "      <td>160029.80</td>\n",
       "      <td>1077</td>\n",
       "    </tr>\n",
       "  </tbody>\n",
       "</table>\n",
       "<p>5 rows × 152 columns</p>\n",
       "</div>"
      ],
      "text/plain": [
       "     player_name  tracker_id  solo_KillDeathRatio  solo_WinRatio  \\\n",
       "0      BreakNeck        4405                 3.14          17.65   \n",
       "1      Blackwalk        8199                 4.41          18.18   \n",
       "2  mercedes_benz        4454                 3.60           0.00   \n",
       "3           DORA        7729                14.00          50.00   \n",
       "4        n2tstar           0                10.50          33.33   \n",
       "\n",
       "   solo_TimeSurvived  solo_RoundsPlayed  solo_Wins  solo_WinTop10Ratio  \\\n",
       "0           18469.14                 17          3                0.83   \n",
       "1           33014.86                 33          6                0.36   \n",
       "2            4330.44                  5          0                0.00   \n",
       "3           13421.82                  8          4                0.67   \n",
       "4            9841.04                  6          2                0.40   \n",
       "\n",
       "   solo_Top10s  solo_Top10Ratio     ...       squad_RideDistance  \\\n",
       "0            4             23.5     ...               3751590.99   \n",
       "1           11             33.3     ...               4295917.30   \n",
       "2            1             20.0     ...               3935265.63   \n",
       "3            6             75.0     ...               2738998.00   \n",
       "4            5             83.3     ...               2347295.00   \n",
       "\n",
       "   squad_MoveDistance  squad_AvgWalkDistance  squad_AvgRideDistance  \\\n",
       "0          5194786.58                2626.97                4372.64   \n",
       "1          6051783.67                2422.48                6009.73   \n",
       "2          5589608.74                1871.89                3011.87   \n",
       "3          3796916.00                2154.62                5578.41   \n",
       "4          3220260.00                2098.47                5642.54   \n",
       "\n",
       "   squad_LongestKill  squad_Heals  squad_Revives  squad_Boosts  \\\n",
       "0             536.98         2186            234          1884   \n",
       "1             734.85         2041            276          2340   \n",
       "2             725.44         1766            210          2193   \n",
       "3             587.28         1214            142          1252   \n",
       "4             546.10         1245            120           923   \n",
       "\n",
       "   squad_DamageDealt  squad_DBNOs  \n",
       "0          242132.73         1448  \n",
       "1          269795.75         1724  \n",
       "2          292977.07         1897  \n",
       "3          181106.90         1057  \n",
       "4          160029.80         1077  \n",
       "\n",
       "[5 rows x 152 columns]"
      ]
     },
     "execution_count": 3,
     "metadata": {},
     "output_type": "execute_result"
    }
   ],
   "source": [
    "data.head(5)"
   ]
  },
  {
   "cell_type": "code",
   "execution_count": 4,
   "metadata": {
    "scrolled": true
   },
   "outputs": [
    {
     "name": "stdout",
     "output_type": "stream",
     "text": [
      "brakujące rekordy    0\n",
      "dtype: int64\n"
     ]
    }
   ],
   "source": [
    "concat = pd.concat([data.isnull().sum()],\n",
    "          axis=1, \n",
    "          keys=['brakujące rekordy'])\n",
    "print(concat.sum())"
   ]
  },
  {
   "cell_type": "code",
   "execution_count": 5,
   "metadata": {
    "scrolled": true
   },
   "outputs": [
    {
     "name": "stdout",
     "output_type": "stream",
     "text": [
      "player_name count: 87898 \n",
      "\n",
      "count      87898.00\n",
      "mean      102350.54\n",
      "std       153340.27\n",
      "min            0.00\n",
      "25%        19039.47\n",
      "50%        54898.48\n",
      "75%       126471.66\n",
      "max      4493014.24\n",
      "Name: solo_RideDistance, dtype: object \n",
      "\n",
      "count    87898.00\n",
      "mean         1.55\n",
      "std          3.06\n",
      "min          0.00\n",
      "25%          0.00\n",
      "50%          1.00\n",
      "75%          2.00\n",
      "max        230.00\n",
      "Name: solo_RoadKills, dtype: object \n",
      "\n",
      "count    87898.00\n",
      "mean         1.87\n",
      "std          1.78\n",
      "min          0.00\n",
      "25%          1.03\n",
      "50%          1.47\n",
      "75%          2.14\n",
      "max        100.00\n",
      "Name: solo_KillDeathRatio, dtype: object \n",
      "\n",
      "count    87898.00\n",
      "mean         1.47\n",
      "std          1.35\n",
      "min          0.00\n",
      "25%          0.92\n",
      "50%          1.26\n",
      "75%          1.73\n",
      "max         86.00\n",
      "Name: duo_KillDeathRatio, dtype: object \n",
      "\n",
      "count    87898.00\n",
      "mean        79.28\n",
      "std         96.95\n",
      "min          1.00\n",
      "25%         17.00\n",
      "50%         48.00\n",
      "75%        105.00\n",
      "max       1681.00\n",
      "Name: solo_RoundsPlayed, dtype: object \n",
      "\n",
      "count    87898.00\n",
      "mean         5.02\n",
      "std         10.08\n",
      "min          0.00\n",
      "25%          0.00\n",
      "50%          2.00\n",
      "75%          5.56\n",
      "max        100.00\n",
      "Name: solo_WinRatio, dtype: object \n",
      "\n",
      "count    87898.00\n",
      "mean       264.08\n",
      "std        125.82\n",
      "min          0.00\n",
      "25%        191.68\n",
      "50%        258.23\n",
      "75%        329.37\n",
      "max       4694.11\n",
      "Name: solo_LongestKill, dtype: object \n",
      "\n",
      "count    87898.00\n",
      "mean       320.41\n",
      "std        170.87\n",
      "min          0.00\n",
      "25%        233.01\n",
      "50%        300.80\n",
      "75%        379.52\n",
      "max       5738.92\n",
      "Name: duo_LongestKill, dtype: object \n",
      "\n",
      "count    87898.00\n",
      "mean         1.75\n",
      "std          0.73\n",
      "min          0.00\n",
      "25%          1.28\n",
      "50%          1.65\n",
      "75%          2.09\n",
      "max         17.00\n",
      "Name: duo_HealsPg, dtype: object \n",
      "\n",
      "count    87898.00\n",
      "mean         1.36\n",
      "std          0.82\n",
      "min          0.00\n",
      "25%          0.90\n",
      "50%          1.22\n",
      "75%          1.63\n",
      "max         30.00\n",
      "Name: duo_KillsPg, dtype: object \n",
      "\n",
      "count    87898.00\n",
      "mean         5.02\n",
      "std         10.08\n",
      "min          0.00\n",
      "25%          0.00\n",
      "50%          2.00\n",
      "75%          5.56\n",
      "max        100.00\n",
      "Name: solo_WinRatio, dtype: object \n",
      "\n",
      "count    87898.00\n",
      "mean         6.30\n",
      "std          5.58\n",
      "min          0.00\n",
      "25%          3.09\n",
      "50%          4.98\n",
      "75%          7.81\n",
      "max        100.00\n",
      "Name: squad_WinRatio, dtype: object \n",
      "\n",
      "count    87898.00\n",
      "mean        89.40\n",
      "std         80.44\n",
      "min          0.00\n",
      "25%         36.00\n",
      "50%         69.00\n",
      "75%        119.00\n",
      "max       1301.00\n",
      "Name: duo_DBNOs, dtype: object \n",
      "\n",
      "count    87898.00\n",
      "mean        17.56\n",
      "std         15.33\n",
      "min          0.00\n",
      "25%          7.00\n",
      "50%         14.00\n",
      "75%         24.00\n",
      "max        190.00\n",
      "Name: duo_Revives, dtype: object \n",
      "\n"
     ]
    }
   ],
   "source": [
    "described_columns=['solo_RideDistance','solo_RoadKills','solo_KillDeathRatio','duo_KillDeathRatio','solo_RoundsPlayed','solo_WinRatio','solo_LongestKill','duo_LongestKill','duo_HealsPg','duo_KillsPg','solo_WinRatio','squad_WinRatio','duo_DBNOs','duo_Revives']\n",
    "print('player_name count:',data.player_name.count(),'\\n')\n",
    "for i in described_columns:\n",
    "    print(data[i].describe().apply(lambda x: '{:2.2f}'.format(x, 'f')),'\\n')"
   ]
  },
  {
   "cell_type": "code",
   "execution_count": 6,
   "metadata": {},
   "outputs": [
    {
     "name": "stdout",
     "output_type": "stream",
     "text": [
      "solo_KillDeathRatio stat: 0.7 pvalue: 0.0\n",
      "duo_KillDeathRatio stat: 0.7 pvalue: 0.0\n",
      "duo_HealsPg stat: 0.7 pvalue: 0.0\n",
      "duo_KillsPg stat: 0.7 pvalue: 0.0\n"
     ]
    }
   ],
   "source": [
    "KolmogorovSmirnov = [data.solo_KillDeathRatio,data.duo_KillDeathRatio,data.duo_HealsPg,data.duo_KillsPg] #sprawdzanie czy to rozkład normalny, potrzebna informacja do zmiannych używanych w teście różnic\n",
    "for i in KolmogorovSmirnov: #dla każdej stat oddzielnie\n",
    "    a,b = st.kstest(i,'norm')\n",
    "    print(i.name,'stat: {:2.1f}'.format(a),'pvalue:',b)"
   ]
  },
  {
   "cell_type": "code",
   "execution_count": 7,
   "metadata": {},
   "outputs": [],
   "source": [
    "%matplotlib inline"
   ]
  },
  {
   "cell_type": "markdown",
   "metadata": {},
   "source": [
    "## 1. Jaki jest związek między przebytą odległością przez gracza w pojeździe (solo_RideDistance), a ilością zabójstw poprzez potrącenie (solo_RoadKills) w trybie jednoosobowym?"
   ]
  },
  {
   "cell_type": "code",
   "execution_count": 8,
   "metadata": {},
   "outputs": [
    {
     "name": "stdout",
     "output_type": "stream",
     "text": [
      "Poziom istotności:  0.0\n",
      "Poziom korelacji: 0.71\n"
     ]
    }
   ],
   "source": [
    "correlation, pvalue = st.pearsonr(data['solo_RideDistance'].values, data['solo_RoadKills'].values)\n",
    "\n",
    "print('Poziom istotności: ', pvalue)\n",
    "print('Poziom korelacji:', '{:2.2f}'.format(correlation))"
   ]
  },
  {
   "cell_type": "markdown",
   "metadata": {},
   "source": [
    "## 7. Jaki jest związek między ilością wystąpień stanu DBNO (Down But Not Out) (duo_DBNOs) w trybie dwuosobowym, a ilością wskrzeszonych towarzyszy w trybie dwuosobowym (duo_Revives)?\n"
   ]
  },
  {
   "cell_type": "code",
   "execution_count": 9,
   "metadata": {},
   "outputs": [
    {
     "name": "stdout",
     "output_type": "stream",
     "text": [
      "Poziom istotności:  0.0\n",
      "Poziom korelacji: 0.88\n"
     ]
    }
   ],
   "source": [
    "correlation, pvalue = st.pearsonr(data['duo_DBNOs'].values, data['duo_Revives'].values)\n",
    "\n",
    "print('Poziom istotności: ', pvalue)\n",
    "print('Poziom korelacji:', '{:2.2f}'.format(correlation))"
   ]
  },
  {
   "cell_type": "markdown",
   "metadata": {},
   "source": [
    "## 3. Ze wszystkich graczy, którzy zagrali więcej niż 100 rund w trybie jednoosobowym (solo_RoundsPlayed), których dziesięciu (player_name) ma najwyższy procent wygranych w trybie jednoosobowym (solo_WinRatio)? W"
   ]
  },
  {
   "cell_type": "code",
   "execution_count": 10,
   "metadata": {},
   "outputs": [
    {
     "name": "stdout",
     "output_type": "stream",
     "text": [
      "            player_name  solo_WinRatio\n",
      "752    The_Venom_Inside          36.64\n",
      "1070         TGP_wahaha          31.82\n",
      "287               mjyoh          29.13\n",
      "146            denahuen          28.14\n",
      "856               Scoom          27.43\n",
      "545          IamChappie          27.10\n",
      "25389           ckmahzy          26.63\n",
      "1313           outc1der          26.50\n",
      "3045            AinsNey          25.16\n",
      "1080              benq5          24.43\n"
     ]
    }
   ],
   "source": [
    "over_100_rounds = data.loc[data.solo_RoundsPlayed > 100, ['player_name', 'solo_WinRatio']]\n",
    "over_100_rounds = over_100_rounds.sort_values('solo_WinRatio', ascending=False)\n",
    "\n",
    "top10_over_100_rounds = over_100_rounds.head(10)\n",
    "print(top10_over_100_rounds)"
   ]
  },
  {
   "cell_type": "code",
   "execution_count": 11,
   "metadata": {},
   "outputs": [
    {
     "data": {
      "text/plain": [
       "<Figure size 432x288 with 0 Axes>"
      ]
     },
     "metadata": {},
     "output_type": "display_data"
    },
    {
     "data": {
      "image/png": "[encoded data removed]",
      "text/plain": [
       "<Figure size 720x432 with 1 Axes>"
      ]
     },
     "metadata": {
      "needs_background": "light"
     },
     "output_type": "display_data"
    }
   ],
   "source": [
    "plt.figure();\n",
    "ax = top10_over_100_rounds.plot(x='player_name', y='solo_WinRatio', kind='bar', fontsize=10, rot=20, legend=False, figsize=(10,6))\n",
    "plt.xlabel('player_name [-]', fontsize=11)\n",
    "plt.ylabel('solo_WinRatio [-]', fontsize=11)\n",
    "plt.title('Najwyższy procent wygranych w trybie jednoosobowym', fontsize=11)\n",
    "plt.ylim([0, 40])\n",
    "for p in ax.patches:\n",
    "    ax.annotate('{:2.2f}%'.format(p.get_height()), (p.get_x() - 0.03, p.get_height() + 0.6))\n",
    "plt.tight_layout()\n",
    "\n",
    "plt.savefig('top_10_over_100_rounds.png')"
   ]
  },
  {
   "cell_type": "markdown",
   "metadata": {},
   "source": [
    "## 4. W którym z trybów (jednoosobowy i dwuosobowy) gracze osiągają najwyższy średni wynik długości śmiertelnego strzału (LongestKill) W"
   ]
  },
  {
   "cell_type": "code",
   "execution_count": 12,
   "metadata": {},
   "outputs": [
    {
     "data": {
      "text/plain": [
       "solo_LongestKill    264.08\n",
       "duo_LongestKill     320.41\n",
       "dtype: object"
      ]
     },
     "execution_count": 12,
     "metadata": {},
     "output_type": "execute_result"
    }
   ],
   "source": [
    "LongestKill_solo_vs_duo = data[['solo_LongestKill', 'duo_LongestKill']]\n",
    "LongestKill_solo_vs_duo = LongestKill_solo_vs_duo.mean()\n",
    "LongestKill_solo_vs_duo.apply(lambda x: '{:2.2f}'.format(x, 'f'))"
   ]
  },
  {
   "cell_type": "code",
   "execution_count": 13,
   "metadata": {},
   "outputs": [
    {
     "data": {
      "image/png": "[encoded data removed]",
      "text/plain": [
       "<Figure size 720x720 with 1 Axes>"
      ]
     },
     "metadata": {},
     "output_type": "display_data"
    }
   ],
   "source": [
    "wykres = LongestKill_solo_vs_duo.plot.pie(autopct='%.2f % %', fontsize=11, figsize=(10, 10))\n",
    "plt.legend(loc='upper left')\n",
    "plt.title('Wykres porównujący średni wynik odległości śmiertelnego strzału dla tybu jednoosobowego i dwuosobowego')\n",
    "plt.ylabel('')\n",
    "plt.tight_layout()\n",
    "plt.savefig('LongestKill_solo_vs_duo.png')"
   ]
  },
  {
   "cell_type": "markdown",
   "metadata": {},
   "source": [
    "## 6. Jak wielu graczy, którzy mają współczynnik wygranych w trybie jednoosobowym poniżej 10 % (solo_WinRatio), mają współczynnik wygranych w trybie drużynowym powyżej 35% (squad_WinRatio). W"
   ]
  },
  {
   "cell_type": "code",
   "execution_count": 14,
   "metadata": {},
   "outputs": [
    {
     "name": "stdout",
     "output_type": "stream",
     "text": [
      "WinRatio_solo_squad_count      208\n",
      "Reszta                       87690\n",
      "dtype: int64\n"
     ]
    }
   ],
   "source": [
    "WinRatio_solo_squad = data.loc[data.solo_WinRatio < 10 , ['solo_WinRatio','squad_WinRatio']]\n",
    "WinRatio_solo_squad = WinRatio_solo_squad.loc[WinRatio_solo_squad.squad_WinRatio > 35 , ['solo_WinRatio','squad_WinRatio']]\n",
    "WinRatio_solo_squad = WinRatio_solo_squad.count()\n",
    "WinRatio_solo_squad['Reszta'] = data.solo_WinRatio.count()- WinRatio_solo_squad.solo_WinRatio\n",
    "del WinRatio_solo_squad['squad_WinRatio']\n",
    "WinRatio_solo_squad = WinRatio_solo_squad.rename({'solo_WinRatio': 'WinRatio_solo_squad_count'})\n",
    "print(WinRatio_solo_squad)"
   ]
  },
  {
   "cell_type": "code",
   "execution_count": 15,
   "metadata": {},
   "outputs": [
    {
     "data": {
      "image/png": "[encoded data removed]",
      "text/plain": [
       "<Figure size 648x648 with 1 Axes>"
      ]
     },
     "metadata": {},
     "output_type": "display_data"
    }
   ],
   "source": [
    "wykres = WinRatio_solo_squad.plot.pie(autopct='%.2f % %', fontsize=11, figsize=(9, 9), explode=[0.1,0], startangle=60)\n",
    "plt.legend(loc='upper left')\n",
    "plt.title('Wykres porównujący liczbę graczy spełniających wymagania w stosunku do całej reszty graczy')\n",
    "plt.ylabel('')\n",
    "plt.tight_layout()\n",
    "plt.savefig('chosenones_vs_rest.png')"
   ]
  },
  {
   "cell_type": "markdown",
   "metadata": {},
   "source": [
    "## 2. Czy jest różnica między wartością statystyki KDRatio w trybie solo (solo_KillDeathRatio), a w trybie duo?(duo_KillDeathRatio) W"
   ]
  },
  {
   "cell_type": "code",
   "execution_count": 16,
   "metadata": {},
   "outputs": [
    {
     "name": "stdout",
     "output_type": "stream",
     "text": [
      "Poziom istotności:  0.0\n",
      "Poziom różnic: 3172985334.5\n"
     ]
    }
   ],
   "source": [
    "statistic, pvalue = st.mannwhitneyu(data.solo_KillDeathRatio,data.duo_KillDeathRatio)\n",
    "print('Poziom istotności: ', pvalue)\n",
    "print('Poziom różnic:', statistic)"
   ]
  },
  {
   "cell_type": "code",
   "execution_count": 17,
   "metadata": {},
   "outputs": [
    {
     "data": {
      "image/png": "[encoded data removed]",
      "text/plain": [
       "<Figure size 720x720 with 1 Axes>"
      ]
     },
     "metadata": {
      "needs_background": "light"
     },
     "output_type": "display_data"
    }
   ],
   "source": [
    "plt.figure(1 ,figsize=(10 ,10))\n",
    "plt.tight_layout()\n",
    "plt.xlabel('solo_KillDeathRatio [-]', fontsize=11)\n",
    "plt.ylabel('duo_KillDeathRatio [-]', fontsize=11)\n",
    "plt.title('Wykres zależności między KDRatio w trybie jedno i dwuosobowym', fontsize=11)\n",
    "plt.scatter(data.solo_KillDeathRatio,data.duo_KillDeathRatio)\n",
    "plt.tight_layout()\n",
    "plt.savefig('KDRatio_solo_vs_duo.png')"
   ]
  },
  {
   "cell_type": "markdown",
   "metadata": {},
   "source": [
    "## 5. Czy jest różnica między średnią liczbą uleczonych współtowarzyszy w trybie dwuosobowym (duo_HealsPg) a liczbą zabójstw w trybie dwuosobowym (duo_KillsPg)?"
   ]
  },
  {
   "cell_type": "code",
   "execution_count": 18,
   "metadata": {},
   "outputs": [
    {
     "name": "stdout",
     "output_type": "stream",
     "text": [
      "Poziom istotności:  0.0\n",
      "Poziom różnic: 2373493308.0\n"
     ]
    }
   ],
   "source": [
    "statistic, pvalue = st.mannwhitneyu(data.duo_HealsPg,data.duo_KillsPg)\n",
    "print('Poziom istotności: ', pvalue)\n",
    "print('Poziom różnic:', statistic)"
   ]
  }
 ],
 "metadata": {
  "kernelspec": {
   "display_name": "Python 3",
   "language": "python",
   "name": "python3"
  },
  "language_info": {
   "codemirror_mode": {
    "name": "ipython",
    "version": 3
   },
   "file_extension": ".py",
   "mimetype": "text/x-python",
   "name": "python",
   "nbconvert_exporter": "python",
   "pygments_lexer": "ipython3",
   "version": "3.6.4"
  }
 },
 "nbformat": 4,
 "nbformat_minor": 2
}
